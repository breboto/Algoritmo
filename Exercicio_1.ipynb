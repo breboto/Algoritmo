{
 "cells": [
  {
   "cell_type": "markdown",
   "metadata": {},
   "source": [
    "   1. Olá, Mundo! \n",
    "Escreva um programa que imprime \"Olá, Mundo!\" na tela."
   ]
  },
  {
   "cell_type": "code",
   "execution_count": null,
   "metadata": {},
   "outputs": [],
   "source": [
    "def Ola():\n",
    "    print('Olá, mundo!')\n",
    "\n",
    "Ola()"
   ]
  },
  {
   "cell_type": "markdown",
   "metadata": {},
   "source": [
    "2. Soma de Dois Números \n",
    "Peça ao usuário para digitar dois números e imprima a soma deles."
   ]
  },
  {
   "cell_type": "code",
   "execution_count": null,
   "metadata": {},
   "outputs": [],
   "source": [
    "def soma():\n",
    "    n1 = int(input('Digite o primeiro número: '))\n",
    "    n2 = int(input('Digite o primeiro número: '))\n",
    "    soma = n1 + n2\n",
    "    \n",
    "    print(f'A soma dos dois números é: {soma}')\n",
    "\n",
    "soma()"
   ]
  },
  {
   "cell_type": "markdown",
   "metadata": {},
   "source": [
    "3. Verificar Par ou Ímpar \n",
    "Peça ao usuário para digitar um número inteiro e informe se o número é par ou ímpar."
   ]
  },
  {
   "cell_type": "code",
   "execution_count": null,
   "metadata": {},
   "outputs": [],
   "source": [
    "def par_impar():\n",
    "    n = int(input('Digite um número inteiro: '))\n",
    "    if n % 2 == 0:\n",
    "        resultado = 'par'\n",
    "    else:\n",
    "        resultado = 'ímpar'\n",
    "\n",
    "    print(f'O número {n} é {resultado}.')\n",
    "\n",
    "par_impar()"
   ]
  },
  {
   "cell_type": "markdown",
   "metadata": {},
   "source": [
    "4. Calculadora Simples \n",
    "Crie um programa que peça dois números e a operação desejada (+, -, *, /) e exiba o resultado."
   ]
  },
  {
   "cell_type": "code",
   "execution_count": null,
   "metadata": {},
   "outputs": [],
   "source": [
    "def calculadora():\n",
    "    \n",
    "    n1 = float(input('Digite o primeiro número: '))\n",
    "    n2 = float(input('Digite o segundo número: '))\n",
    "    \n",
    "   \n",
    "    operacao = input('Digite a operação desejada (+, -, *, /): ')\n",
    "\n",
    "    if operacao == '+':\n",
    "        resultado = n1 + n2\n",
    "    elif operacao == '-':\n",
    "        resultado = n1 - n2\n",
    "    elif operacao == '*':\n",
    "        resultado = n1 * n2\n",
    "    elif operacao == '/':\n",
    "                if n2 != 0:\n",
    "                    resultado = n1 / n2\n",
    "                else:\n",
    "                     return 'Um número não pode ser dividido por 0!'\n",
    "    else:\n",
    "        return 'Operação inválida. Por favor, escolha uma das operações: +, -, *, /.'\n",
    "    \n",
    "    \n",
    "    return f'O resultado de {n1} {operacao} {n2} é: {resultado}.'\n",
    "\n",
    "\n",
    "calculadora()"
   ]
  },
  {
   "cell_type": "markdown",
   "metadata": {},
   "source": [
    " 5. Média de Notas \n",
    "Peça ao usuário para digitar três notas e calcule a média delas."
   ]
  },
  {
   "cell_type": "code",
   "execution_count": null,
   "metadata": {},
   "outputs": [],
   "source": [
    "def media():\n",
    "    \n",
    "    nota1 = input('Digite a primeira nota: ')\n",
    "    nota2 = input('Digite a segunda nota: ')\n",
    "    nota3 = input('Digite a terceira nota: ')\n",
    "    \n",
    "    media = (nota1 + nota2 + nota3) / 3\n",
    "    \n",
    "    print(f'A média das notas {nota1}, {nota2} e {nota3} é {media:.2f}.')\n",
    "\n",
    "media()"
   ]
  },
  {
   "cell_type": "markdown",
   "metadata": {},
   "source": [
    "6. Converter Celsius para Fahrenheit \n",
    "Escreva um programa que converta uma temperatura de graus Celsius para Fahrenheit."
   ]
  },
  {
   "cell_type": "code",
   "execution_count": null,
   "metadata": {},
   "outputs": [],
   "source": [
    "def celsius_fahrenheit():\n",
    "    \n",
    "    celsius = float(input('Digite a temperatura em graus Celsius: '))\n",
    "    \n",
    "    fahrenheit = (celsius * 9/5) + 32\n",
    "    \n",
    "    print(f'A temperatura de {celsius:.2f} graus Celsius é igual a {fahrenheit:.2f} graus Fahrenheit.')\n",
    "\n",
    "celsius_fahrenheit()"
   ]
  },
  {
   "cell_type": "markdown",
   "metadata": {},
   "source": [
    " 7. Fatorial de um Número \n",
    "Peça ao usuário para digitar um número e calcule o fatorial desse número."
   ]
  },
  {
   "cell_type": "code",
   "execution_count": null,
   "metadata": {},
   "outputs": [],
   "source": [
    "def fatorial():\n",
    "\n",
    "    n1 = int(input('Digite um número inteiro para calcular o fatorial: '))\n",
    "    \n",
    "  \n",
    " \n",
    "    if n1 < 0:\n",
    "        return 'Não há como fazer fatorial de 0!'\n",
    "    fatorial = 1\n",
    "\n",
    "    for i in range(1, n1 + 1):\n",
    "        fatorial *= i\n",
    "    \n",
    "    print(f'O fatorial de {n1} é {fatorial}.')\n",
    "\n",
    "\n",
    "fatorial()"
   ]
  },
  {
   "cell_type": "markdown",
   "metadata": {},
   "source": [
    "8. Contagem de Números Ímpares \n",
    "Escreva um programa que conta e imprime todos os números ímpares entre 1 e 100."
   ]
  },
  {
   "cell_type": "code",
   "execution_count": null,
   "metadata": {},
   "outputs": [],
   "source": [
    "def contador():\n",
    "    impares = []\n",
    "        \n",
    "    for n in range(1, 101):\n",
    "        \n",
    "        if n % 2 != 0:\n",
    "            impares.append(n)\n",
    "    \n",
    "    print('Números ímpares entre 1 e 100:')\n",
    "    for n in impares:\n",
    "        print(n)\n",
    "\n",
    "\n",
    "contador()"
   ]
  },
  {
   "cell_type": "markdown",
   "metadata": {},
   "source": [
    "9. Verificar Número Primo \n",
    "Peça ao usuário para digitar um número e verifique se ele é primo."
   ]
  },
  {
   "cell_type": "code",
   "execution_count": null,
   "metadata": {},
   "outputs": [],
   "source": [
    "def verificar_primo():\n",
    "    \n",
    "    numero = int(input('Digite um número inteiro para verificar se é primo: '))\n",
    "\n",
    "    if numero <= 1:\n",
    "        print(f'O número {numero} não é primo.')\n",
    "        return\n",
    "    \n",
    "    eh_primo = True\n",
    "    \n",
    "    for i in range(2, int(numero**0.5) + 1):\n",
    "        if numero % i == 0:\n",
    "            eh_primo = False\n",
    "            break\n",
    "        \n",
    "    if eh_primo:\n",
    "        print(f'O número {numero} é primo.')\n",
    "    else:\n",
    "        print(f'O número {numero} não é primo.')\n",
    "\n",
    "verificar_primo()"
   ]
  },
  {
   "cell_type": "markdown",
   "metadata": {},
   "source": [
    "10. Inverter uma String Peça ao usuário para digitar uma string e imprima essa string de forma invertida."
   ]
  },
  {
   "cell_type": "code",
   "execution_count": null,
   "metadata": {},
   "outputs": [],
   "source": [
    "palavra = input('Digite uma string: ')\n",
    "\n",
    "invertida = ''\n",
    "for i in palavra:\n",
    "    invertida = i + invertida\n",
    "\n",
    "print('String invertida:', invertida)"
   ]
  },
  {
   "cell_type": "markdown",
   "metadata": {},
   "source": [
    "11. Tabuada Peça ao usuário para digitar um número e imprima a tabuada desse número de 1 a 10."
   ]
  },
  {
   "cell_type": "code",
   "execution_count": null,
   "metadata": {},
   "outputs": [],
   "source": [
    "numero = int(input('Digite um número para ver sua tabuada: '))\n",
    "\n",
    "print(f'Tabuada do {numero}:')\n",
    "\n",
    "for i in range(1, 11):\n",
    "    resultado = numero * i\n",
    "    print(f'{numero} x {i} = {resultado}')"
   ]
  },
  {
   "cell_type": "markdown",
   "metadata": {},
   "source": [
    "12.Contar Vogais em uma String \n",
    "Escreva um programa que conte o número de vogais em uma string fornecida pelo usuário."
   ]
  },
  {
   "cell_type": "code",
   "execution_count": null,
   "metadata": {},
   "outputs": [],
   "source": [
    "texto = input('Digite uma string para contar as vogais: ')\n",
    "\n",
    "vogais = 'aeiouAEIOU'\n",
    "\n",
    "contador_vogais = 0\n",
    "\n",
    "for i in texto:\n",
    "    if i in vogais:\n",
    "        contador_vogais += 1\n",
    "\n",
    "print(f'Total de vogais na string: {contador_vogais}')"
   ]
  },
  {
   "cell_type": "markdown",
   "metadata": {},
   "source": [
    "13. Soma dos Elementos de uma Lista \n",
    "Crie uma lista de números e escreva um programa que some todos os elementos dessa lista."
   ]
  },
  {
   "cell_type": "code",
   "execution_count": null,
   "metadata": {},
   "outputs": [],
   "source": [
    "num = [10, 20, 30, 40, 50]\n",
    "\n",
    "soma = sum(num)\n",
    "\n",
    "print(f'A soma dos elementos da lista é: {soma}')"
   ]
  },
  {
   "cell_type": "markdown",
   "metadata": {},
   "source": [
    "14. Encontrar o Maior Número em uma Lista \n",
    "Peça ao usuário para digitar uma lista de números e exiba o maior número dessa lista."
   ]
  },
  {
   "cell_type": "code",
   "execution_count": null,
   "metadata": {},
   "outputs": [],
   "source": [
    "entrada = int(input('Digite uma lista 4 números: '))\n",
    "entrada2 = int(input('Digite outro número: '))\n",
    "entrada3 = int(input('Digite outro número: '))\n",
    "entrada4 = int(input('Digite o último número: '))\n",
    "\n",
    "lista = []\n",
    "\n",
    "lista.append(entrada)\n",
    "lista.append(entrada2)\n",
    "lista.append(entrada3)\n",
    "lista.append(entrada4)\n",
    "\n",
    "maior_numero = max(lista)\n",
    "\n",
    "print(f'O maior número na lista é: {maior_numero}')"
   ]
  },
  {
   "cell_type": "markdown",
   "metadata": {},
   "source": [
    "15. Números Pares em uma Lista \n",
    "Dada uma lista de números, crie um programa que exiba apenas os números pares."
   ]
  },
  {
   "cell_type": "code",
   "execution_count": null,
   "metadata": {},
   "outputs": [],
   "source": [
    "numeros = [10, 23, 44, 56, 78, 91, 100]\n",
    "\n",
    "pares = [num for num in numeros if num % 2 == 0]\n",
    "\n",
    "print('Números pares na lista:', pares)"
   ]
  },
  {
   "cell_type": "markdown",
   "metadata": {},
   "source": [
    "16. Contagem Regressiva \n",
    "Escreva um programa que faça uma contagem regressiva de 10 a 0, imprimindo os números na tela."
   ]
  },
  {
   "cell_type": "code",
   "execution_count": null,
   "metadata": {},
   "outputs": [],
   "source": [
    "for i in range(10, -1, -1):\n",
    "    print(i)"
   ]
  },
  {
   "cell_type": "markdown",
   "metadata": {},
   "source": [
    "17. Calculando a Sequência de Fibonacci \n",
    "Escreva um programa que gera os primeiros 10 números da sequência de Fibonacci."
   ]
  },
  {
   "cell_type": "code",
   "execution_count": null,
   "metadata": {},
   "outputs": [],
   "source": [
    "n = 10\n",
    "\n",
    "fibonacci = [0, 1]\n",
    "\n",
    "for i in range(2, n):\n",
    "    proximo_numero = fibonacci[-1] + fibonacci[-2]\n",
    "    fibonacci.append(proximo_numero)\n",
    "\n",
    "print('Os primeiros 10 números da sequência de Fibonacci são:')\n",
    "print(fibonacci)"
   ]
  },
  {
   "cell_type": "markdown",
   "metadata": {},
   "source": [
    "18. Simulação de Lançamento de Moeda \n",
    "Crie um programa que simule o lançamento de uma moeda (cara ou coroa) e exiba o resultado."
   ]
  },
  {
   "cell_type": "code",
   "execution_count": null,
   "metadata": {},
   "outputs": [],
   "source": [
    "import random\n",
    "\n",
    "resultado = random.choice(['cara', 'coroa'])\n",
    "\n",
    "print(f'O resultado do lançamento da moeda é: {resultado}')"
   ]
  },
  {
   "cell_type": "markdown",
   "metadata": {},
   "source": [
    "19. Verificar Palíndromo \n",
    "Peça ao usuário para digitar uma palavra e verifique se ela é um palíndromo (lê-se da mesma forma de trás para frente)."
   ]
  },
  {
   "cell_type": "code",
   "execution_count": 4,
   "metadata": {},
   "outputs": [
    {
     "name": "stdout",
     "output_type": "stream",
     "text": [
      "LEON - NOEL não é um palíndromo!\n"
     ]
    }
   ],
   "source": [
    "palavra = input('Digite uma string: ').upper()\n",
    "\n",
    "invertida = ''\n",
    "for i in palavra:\n",
    "    invertida = i + invertida\n",
    "\n",
    "\n",
    "if palavra == invertida:\n",
    "    print(f'{palavra} - {invertida} é um palíndromo!')\n",
    "else:\n",
    "    print(f'{palavra} - {invertida} não é um palíndromo!')\n"
   ]
  },
  {
   "cell_type": "markdown",
   "metadata": {},
   "source": [
    " 20. Jogo de Adivinhação \n",
    "Crie um programa onde o computador escolhe um número aleatório entre 1 e 100 e o usuário deve tentar adivinhar o número. O programa deve dar dicas se o número escolhido é maior ou menor que a tentativa do usuário"
   ]
  },
  {
   "cell_type": "code",
   "execution_count": null,
   "metadata": {},
   "outputs": [],
   "source": [
    "import random\n",
    "\n",
    "palpite = int(input('Digite seu palpite, desde que seja um núemro inteiro: '))\n",
    "\n",
    "numero_secreto = random.randint(1,100)\n",
    "\n",
    "while palpite != numero_secreto:\n",
    "    if palpite < numero_secreto:\n",
    "        print('O número secreto é maior.') \n",
    "    elif palpite > numero_secreto:\n",
    "        print('O número secreto é menor.')\n",
    "    \n",
    "    palpite = int(input('Digite seu novo palpite: '))\n",
    "\n",
    "print(f'Parabéns! Você acertou o número secreto {numero_secreto}.')\n"
   ]
  }
 ],
 "metadata": {
  "kernelspec": {
   "display_name": "Python 3",
   "language": "python",
   "name": "python3"
  },
  "language_info": {
   "codemirror_mode": {
    "name": "ipython",
    "version": 3
   },
   "file_extension": ".py",
   "mimetype": "text/x-python",
   "name": "python",
   "nbconvert_exporter": "python",
   "pygments_lexer": "ipython3",
   "version": "3.12.5"
  }
 },
 "nbformat": 4,
 "nbformat_minor": 2
}
